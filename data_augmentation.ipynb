{
 "cells": [
  {
   "cell_type": "code",
   "execution_count": 1,
   "metadata": {},
   "outputs": [
    {
     "name": "stderr",
     "output_type": "stream",
     "text": [
      "Using TensorFlow backend.\n"
     ]
    }
   ],
   "source": [
    "import os\n",
    "import glob\n",
    "from shutil import move\n",
    "from os.path import join\n",
    "from os import listdir, rmdir\n",
    "from keras.preprocessing.image import ImageDataGenerator, array_to_img, img_to_array, load_img"
   ]
  },
  {
   "cell_type": "code",
   "execution_count": 17,
   "metadata": {},
   "outputs": [],
   "source": [
    "source_path = \"/home/dieinison/Área de Trabalho/cnn/workspace/faces_split/\"\n",
    "path_images = \"train/\"\n",
    "output_path = source_path + path_images"
   ]
  },
  {
   "cell_type": "code",
   "execution_count": 18,
   "metadata": {},
   "outputs": [],
   "source": [
    "labels_images = {}\n",
    "\n",
    "def getImagesFromUrl(main_folder, folder, pasta):\n",
    "    if os.path.isdir(main_folder + folder):  # if path is valid\n",
    "        os.chdir(main_folder + folder)  # get in the folder\n",
    "        for file in glob.glob(\"*\"):  # for each file inside the folder\n",
    "            if os.path.isdir(main_folder + folder + file):  # if the file is a folder\n",
    "                labels_images[file] = []\n",
    "                # recursively get in inside the folder\n",
    "                getImagesFromUrl(main_folder, folder + file + '/', file)\n",
    "            else:  # otherwise, the file is a handbag image\n",
    "                # if the image format has valid format\n",
    "                if((file).endswith(\".jpg\") or (file).endswith(\".png\") or (file).endswith(\".jpeg\")):\n",
    "                    labels_images[pasta].append(main_folder + folder + file)\n",
    "\n",
    "getImagesFromUrl(source_path, path_images, \"\")"
   ]
  },
  {
   "cell_type": "code",
   "execution_count": 19,
   "metadata": {},
   "outputs": [],
   "source": [
    "datagen = ImageDataGenerator(rotation_range=20,\n",
    "                             zoom_range=0.1,\n",
    "                             width_shift_range=0.1,\n",
    "                             vertical_flip=True,\n",
    "                             fill_mode='nearest')"
   ]
  },
  {
   "cell_type": "code",
   "execution_count": 20,
   "metadata": {},
   "outputs": [],
   "source": [
    "for folder, images in labels_images.items():\n",
    "    for image in images:\n",
    "        img = load_img(image)\n",
    "        img_array = img_to_array(img)\n",
    "        img_array = img_array.reshape((1,) + img_array.shape)\n",
    "        i = 0\n",
    "        for batch in datagen.flow(img_array,\n",
    "                                  save_to_dir=output_path+folder,\n",
    "                                  save_prefix=folder,\n",
    "                                  save_format='png'):\n",
    "            i = i + 1\n",
    "            if i >= 10:\n",
    "                break"
   ]
  },
  {
   "cell_type": "code",
   "execution_count": null,
   "metadata": {},
   "outputs": [],
   "source": []
  }
 ],
 "metadata": {
  "kernelspec": {
   "display_name": "Python 3",
   "language": "python",
   "name": "python3"
  },
  "language_info": {
   "codemirror_mode": {
    "name": "ipython",
    "version": 3
   },
   "file_extension": ".py",
   "mimetype": "text/x-python",
   "name": "python",
   "nbconvert_exporter": "python",
   "pygments_lexer": "ipython3",
   "version": "3.7.4"
  }
 },
 "nbformat": 4,
 "nbformat_minor": 2
}
