{
 "cells": [
  {
   "cell_type": "code",
   "execution_count": 14,
   "metadata": {},
   "outputs": [],
   "source": [
    "import os\n",
    "import glob\n",
    "import errno\n",
    "import shutil\n",
    "import numpy as np"
   ]
  },
  {
   "cell_type": "code",
   "execution_count": 21,
   "metadata": {},
   "outputs": [],
   "source": [
    "source_path = \"/home/dieinison/Área de Trabalho/cnn/workspace/\"\n",
    "# path_images = \"faces/\"\n",
    "# output_train = \"faces_split/train_/\"\n",
    "# output_test = \"faces_split/test/\"\n",
    "\n",
    "path_images = \"faces_split/train_/\"\n",
    "output_train = \"faces_split/train/\"\n",
    "output_test = \"faces_split/val/\""
   ]
  },
  {
   "cell_type": "code",
   "execution_count": 22,
   "metadata": {},
   "outputs": [],
   "source": [
    "labels_images = {}"
   ]
  },
  {
   "cell_type": "code",
   "execution_count": 23,
   "metadata": {},
   "outputs": [],
   "source": [
    "def getImagesFromUrl(main_folder, folder, pasta):\n",
    "    if os.path.isdir(main_folder + folder):\n",
    "        os.chdir(main_folder + folder) \n",
    "        for file in glob.glob(\"*\"):\n",
    "            if os.path.isdir(main_folder + folder + file):\n",
    "                labels_images[file] = []\n",
    "                getImagesFromUrl(main_folder, folder + file + '/', file)\n",
    "            else:  \n",
    "                if((file).endswith(\".png\")):\n",
    "                    labels_images[pasta].append(main_folder + folder + file)"
   ]
  },
  {
   "cell_type": "code",
   "execution_count": 24,
   "metadata": {},
   "outputs": [],
   "source": [
    "getImagesFromUrl(source_path, path_images, \"\")"
   ]
  },
  {
   "cell_type": "code",
   "execution_count": 25,
   "metadata": {},
   "outputs": [
    {
     "name": "stdout",
     "output_type": "stream",
     "text": [
      "Directory boland already exist.\n",
      "Directory choon already exist.\n",
      "Directory mitchell already exist.\n",
      "Directory kawamura already exist.\n",
      "Directory at33 already exist.\n",
      "Directory saavik already exist.\n",
      "Directory glickman already exist.\n",
      "Directory megak already exist.\n",
      "Directory ch4f already exist.\n",
      "Directory sz24 already exist.\n",
      "Directory an2i already exist.\n",
      "Directory cheyer already exist.\n",
      "Directory night already exist.\n",
      "Directory phoebe already exist.\n",
      "Directory tammo already exist.\n",
      "Directory kk49 already exist.\n",
      "Directory steffi already exist.\n",
      "Directory karyadi already exist.\n",
      "Directory danieln already exist.\n",
      "Directory bpm already exist.\n"
     ]
    }
   ],
   "source": [
    "for folder in labels_images.keys():\n",
    "    try:\n",
    "        os.mkdir(source_path + output_train + folder)\n",
    "        os.mkdir(source_path + output_test + folder)\n",
    "    except OSError as e:\n",
    "        if e.errno == errno.EEXIST:\n",
    "            print(\"Directory\", folder, \"already exist.\")\n",
    "        else:\n",
    "            raise"
   ]
  },
  {
   "cell_type": "code",
   "execution_count": 26,
   "metadata": {},
   "outputs": [],
   "source": [
    "for label, images in labels_images.items():\n",
    "    n_images = len(images)\n",
    "    n_train = int(np.floor(n_images * 0.8))  # 80% for training\n",
    "    n_val = int(n_images - n_train)  # 20% for validation\n",
    "\n",
    "    temp = np.arange(n_images)  # array of indices of images\n",
    "    np.random.shuffle(temp)  # shuffle these indices\n",
    "    indices_train = temp[:n_train]  # getting train indices\n",
    "    indices_val = temp[n_train:]  # getting valid indices\n",
    "\n",
    "    for index in indices_train:\n",
    "        shutil.copy(images[index], source_path + output_train + label + '/')\n",
    "    for index in indices_val:\n",
    "        shutil.copy(images[index], source_path + output_test + label + '/')"
   ]
  },
  {
   "cell_type": "code",
   "execution_count": null,
   "metadata": {
    "collapsed": true
   },
   "outputs": [],
   "source": []
  }
 ],
 "metadata": {
  "kernelspec": {
   "display_name": "Python 3",
   "language": "python",
   "name": "python3"
  },
  "language_info": {
   "codemirror_mode": {
    "name": "ipython",
    "version": 3
   },
   "file_extension": ".py",
   "mimetype": "text/x-python",
   "name": "python",
   "nbconvert_exporter": "python",
   "pygments_lexer": "ipython3",
   "version": "3.7.4"
  },
  "toc": {
   "base_numbering": 1,
   "nav_menu": {},
   "number_sections": true,
   "sideBar": true,
   "skip_h1_title": false,
   "title_cell": "Table of Contents",
   "title_sidebar": "Contents",
   "toc_cell": false,
   "toc_position": {},
   "toc_section_display": true,
   "toc_window_display": false
  }
 },
 "nbformat": 4,
 "nbformat_minor": 2
}
