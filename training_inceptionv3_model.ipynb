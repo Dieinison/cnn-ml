{
 "cells": [
  {
   "cell_type": "code",
   "execution_count": 1,
   "metadata": {},
   "outputs": [
    {
     "name": "stderr",
     "output_type": "stream",
     "text": [
      "Using TensorFlow backend.\n"
     ]
    }
   ],
   "source": [
    "import math\n",
    "import numpy as np\n",
    "import matplotlib.pyplot as plt\n",
    "\n",
    "from keras.models import Sequential, Model\n",
    "from keras import optimizers\n",
    "from keras.applications import InceptionV3\n",
    "from keras.layers import Dense, GlobalAveragePooling2D\n",
    "from keras.preprocessing.image import ImageDataGenerator\n",
    "\n",
    "plt.switch_backend('agg')"
   ]
  },
  {
   "cell_type": "code",
   "execution_count": 2,
   "metadata": {},
   "outputs": [],
   "source": [
    "EPOCHS = 10\n",
    "N_LABELS = 10\n",
    "BATCH_SIZE = 64\n",
    "RESOLUTION = 299\n",
    "EXP_NAME = 'e001'\n",
    "PATH_TRAIN = '/home/dieinison/script/dataset/faces_split/train/'\n",
    "PATH_VAL = '/home/dieinison/script/dataset/faces_split/val/'"
   ]
  },
  {
   "cell_type": "code",
   "execution_count": 3,
   "metadata": {},
   "outputs": [],
   "source": [
    "def overfitting_plot(history, name):\n",
    "    acc = history.history['acc']\n",
    "    val_acc = history.history['val_acc']\n",
    "    loss = history.history['loss']\n",
    "    val_loss = history.history['val_loss']\n",
    "    \n",
    "    epochs = range(1, len(acc) + 1)\n",
    "    \n",
    "    plt.plot(epochs, acc, 'bo', label='Training acc')\n",
    "    plt.plot(epochs, val_acc, 'b', label='Validation acc')\n",
    "    plt.title('Training and validation accuracy')\n",
    "    plt.legend(loc='best')\n",
    "    \n",
    "    plt.savefig('./plots/acc_'+name+'.png')\n",
    "    \n",
    "    plt.figure()\n",
    "    plt.plot(epochs, loss, 'bo', label='Training loss')\n",
    "    plt.plot(epochs, val_loss, 'b', label='Validation loss')\n",
    "    plt.title('Training and validation loss')\n",
    "    plt.legend(loc='best')\n",
    "    \n",
    "    plt.savefig('./plots/loss_'+name+'.png')"
   ]
  },
  {
   "cell_type": "code",
   "execution_count": null,
   "metadata": {
    "collapsed": true
   },
   "outputs": [],
   "source": [
    "def train(model, path_train, path_val, name=''):\n",
    "    \n",
    "    train_datagen = ImageDataGenerator(rescale=1./255)\n",
    "    \n",
    "    train_generator = train_datagen.flow_from_directory(\n",
    "        path_train,\n",
    "        target_size=(RESOLUTION, RESOLUTION),\n",
    "        batch_size=BATCH_SIZE,\n",
    "        class_mode='categorical')\n",
    "    \n",
    "    N_TRAIN = len(train_generator.filenames)\n",
    "    \n",
    "    val_datagen = ImageDataGenerator(rescale=1./255)\n",
    "    \n",
    "    val_generator = val_datagen.flow_from_directory(\n",
    "        path_val,\n",
    "        target_size=(RESOLUTION, RESOLUTION),\n",
    "        batch_size=BATCH_SIZE,\n",
    "        class_mode='categorical')\n",
    "    \n",
    "    N_VAL = len(val_generator.filenames)\n",
    "    \n",
    "    history = model.fit_generator(\n",
    "        train_generator,\n",
    "        steps_per_epoch=(N_TRAIN // BATCH_SIZE),\n",
    "        epochs=EPOCHS,\n",
    "        validation_data=val_generator ,\n",
    "        validation_steps=(N_VAL // BATCH_SIZE)\n",
    "    )\n",
    "    \n",
    "    model.save(name+'.h5')\n",
    "    \n",
    "    overfitting_plot(history, name)"
   ]
  },
  {
   "cell_type": "code",
   "execution_count": null,
   "metadata": {},
   "outputs": [],
   "source": [
    "def build_inceptionV3(learning_rate=0.0001):\n",
    "    \n",
    "    model = InceptionV3(include_top=False,\n",
    "                        input_shape=(RESOLUTION,RESOLUTION,3),\n",
    "                        weights='imagenet')\n",
    "    \n",
    "    x = base_model.output\n",
    "    x = GlobalAveragePooling2D()(x)\n",
    "    \n",
    "    x = Dense(1024, activation='relu')(x)\n",
    "    \n",
    "    predictions = Dense(N_LABELS, activation='softmax')(x)\n",
    "\n",
    "    model = Model(inputs=base_model.input,               \n",
    "                  outputs=predictions)\n",
    "    \n",
    "    model.summary()\n",
    "    \n",
    "    model.compile(loss='categorical_crossentropy',\n",
    "                  optimizer=optimizers.Adam(lr=learning_rate),\n",
    "                  metrics=['acc'])\n",
    "    \n",
    "    return model"
   ]
  },
  {
   "cell_type": "code",
   "execution_count": null,
   "metadata": {
    "collapsed": true,
    "scrolled": false
   },
   "outputs": [],
   "source": [
    "inception_v3_model = build_inceptionV3(learning_rate=0.0001)"
   ]
  },
  {
   "cell_type": "code",
   "execution_count": null,
   "metadata": {
    "collapsed": true
   },
   "outputs": [],
   "source": [
    "try:\n",
    "    train(inception_v3_model, PATH_TRAIN, PATH_VAL, name=EXP_NAME)\n",
    "except Exception as e:\n",
    "    print(str(e))"
   ]
  }
 ],
 "metadata": {
  "kernelspec": {
   "display_name": "Python 3",
   "language": "python",
   "name": "python3"
  },
  "language_info": {
   "codemirror_mode": {
    "name": "ipython",
    "version": 3
   },
   "file_extension": ".py",
   "mimetype": "text/x-python",
   "name": "python",
   "nbconvert_exporter": "python",
   "pygments_lexer": "ipython3",
   "version": "3.7.4"
  }
 },
 "nbformat": 4,
 "nbformat_minor": 2
}
